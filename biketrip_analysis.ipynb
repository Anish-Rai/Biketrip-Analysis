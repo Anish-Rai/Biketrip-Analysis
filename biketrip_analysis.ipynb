{
 "cells": [
  {
   "cell_type": "markdown",
   "id": "cfeb2903",
   "metadata": {},
   "source": [
    "## Google Data Analyst Capstone Project\n",
    " ##### I will be using  bike trip historical datasets  which is provided under the license of <a href=\"https://ride.divvybikes.com/data-license-agreement\">divvy bike trip dataset </a>\n",
    " ##### Also I will be using datasets from 2020-04 to 2021-03 which can be found here <a href=\"https://divvy-tripdata.s3.amazonaws.com/index.html\"> link to original dataset </a>\n",
    " \n",
    "### SCENARIO\n",
    "In 2016, Cyclistic launched a successful bike-share offering. Since then, the program has grown to a fleet of 5,824 bicycles that\n",
    "are geotracked and locked into a network of 692 stations across Chicago. The bikes can be unlocked from one station and\n",
    "returned to any other station in the system anytime.\n",
    "\n",
    "Until now, Cyclistic’s marketing strategy relied on building general awareness and appealing to broad consumer segments.\n",
    "One approach that helped make these things possible was the flexibility of its pricing plans: single-ride passes, full-day passes,\n",
    "and annual memberships. Customers who purchase single-ride or full-day passes are referred to as casual riders. Customers\n",
    "who purchase annual memberships are Cyclistic members.\n",
    "\n",
    "Cyclistic’s finance analysts have concluded that annual members are much more profitable than casual riders. Although the\n",
    "pricing flexibility helps Cyclistic attract more customers, Moreno(Marketing Director) believes that maximizing the number of annual members will\n",
    "be key to future growth. Rather than creating a marketing campaign that targets all-new customers, Moreno believes there is a\n",
    "very good chance to convert casual riders into members. She notes that casual riders are already aware of the Cyclistic\n",
    "program and have chosen Cyclistic for their mobility needs.\n",
    "\n",
    "\n",
    "### BUSINESS TASKS\n",
    "1. How do annual members and casual riders use Cyclistic bikes differently?\n",
    "2. Why would casual riders buy Cyclistic annual memberships?\n",
    "3. How can Cyclistic use digital media to influence casual riders to become members?"
   ]
  },
  {
   "cell_type": "code",
   "execution_count": 100,
   "id": "f2aad555",
   "metadata": {},
   "outputs": [],
   "source": [
    "import pandas as pd\n",
    "import numpy as np\n",
    "import matplotlib.pyplot as plt\n",
    "import seaborn as sns\n",
    "import glob\n",
    "from scipy.stats import mstats\n",
    "from geopy.distance import geodesic "
   ]
  },
  {
   "cell_type": "markdown",
   "id": "894469ff",
   "metadata": {},
   "source": [
    "### ** Importing data **"
   ]
  },
  {
   "cell_type": "code",
   "execution_count": 2,
   "id": "55e0f935",
   "metadata": {},
   "outputs": [],
   "source": [
    "path = 'C:\\\\Users\\\\USER\\\\biketrip'\n",
    "all_files = glob.glob(path+ \"/*.csv\")"
   ]
  },
  {
   "cell_type": "markdown",
   "id": "a6d790e1",
   "metadata": {},
   "source": [
    "#### I have loaded all the datasets and stored them in a list as our data were in monthly format"
   ]
  },
  {
   "cell_type": "code",
   "execution_count": 3,
   "id": "a9070300",
   "metadata": {},
   "outputs": [],
   "source": [
    "li = []\n",
    "\n",
    "for filename in all_files:\n",
    "    df = pd.read_csv(filename, index_col=None, header=0)\n",
    "    li.append(df)\n",
    "        "
   ]
  },
  {
   "cell_type": "markdown",
   "id": "0b9cb2aa",
   "metadata": {},
   "source": [
    "#### We can observer that there are 13 different columns in the data sets and \"ride_id\" is a unique key (primary key) for each ride trip and also \"member_casual\" column contains only two types of membership i.e either member or casual"
   ]
  },
  {
   "cell_type": "code",
   "execution_count": 4,
   "id": "30bfa8d9",
   "metadata": {},
   "outputs": [
    {
     "name": "stdout",
     "output_type": "stream",
     "text": [
      "<class 'pandas.core.frame.DataFrame'>\n",
      "RangeIndex: 84725 entries, 0 to 84724\n",
      "Data columns (total 15 columns):\n",
      " #   Column              Non-Null Count  Dtype  \n",
      "---  ------              --------------  -----  \n",
      " 0   ride_id             84725 non-null  object \n",
      " 1   rideable_type       84725 non-null  object \n",
      " 2   started_at          84725 non-null  object \n",
      " 3   ended_at            84725 non-null  object \n",
      " 4   start_station_name  84725 non-null  object \n",
      " 5   start_station_id    84725 non-null  int64  \n",
      " 6   end_station_name    84626 non-null  object \n",
      " 7   end_station_id      84626 non-null  float64\n",
      " 8   start_lat           84725 non-null  float64\n",
      " 9   start_lng           84725 non-null  float64\n",
      " 10  end_lat             84626 non-null  float64\n",
      " 11  end_lng             84626 non-null  float64\n",
      " 12  member_casual       84725 non-null  object \n",
      " 13  ride_len            84725 non-null  object \n",
      " 14  day_of_week         84725 non-null  object \n",
      "dtypes: float64(5), int64(1), object(9)\n",
      "memory usage: 9.7+ MB\n"
     ]
    }
   ],
   "source": [
    "li[0].info()"
   ]
  },
  {
   "cell_type": "code",
   "execution_count": 5,
   "id": "fb8c6b6b",
   "metadata": {},
   "outputs": [
    {
     "data": {
      "text/html": [
       "<div>\n",
       "<style scoped>\n",
       "    .dataframe tbody tr th:only-of-type {\n",
       "        vertical-align: middle;\n",
       "    }\n",
       "\n",
       "    .dataframe tbody tr th {\n",
       "        vertical-align: top;\n",
       "    }\n",
       "\n",
       "    .dataframe thead th {\n",
       "        text-align: right;\n",
       "    }\n",
       "</style>\n",
       "<table border=\"1\" class=\"dataframe\">\n",
       "  <thead>\n",
       "    <tr style=\"text-align: right;\">\n",
       "      <th></th>\n",
       "      <th>ride_id</th>\n",
       "      <th>rideable_type</th>\n",
       "      <th>started_at</th>\n",
       "      <th>ended_at</th>\n",
       "      <th>start_station_name</th>\n",
       "      <th>start_station_id</th>\n",
       "      <th>end_station_name</th>\n",
       "      <th>end_station_id</th>\n",
       "      <th>start_lat</th>\n",
       "      <th>start_lng</th>\n",
       "      <th>end_lat</th>\n",
       "      <th>end_lng</th>\n",
       "      <th>member_casual</th>\n",
       "      <th>ride_len</th>\n",
       "      <th>day_of_week</th>\n",
       "    </tr>\n",
       "  </thead>\n",
       "  <tbody>\n",
       "    <tr>\n",
       "      <th>0</th>\n",
       "      <td>A847FADBBC638E45</td>\n",
       "      <td>docked_bike</td>\n",
       "      <td>4/26/2020 17:45</td>\n",
       "      <td>4/26/2020 18:12</td>\n",
       "      <td>Eckhart Park</td>\n",
       "      <td>86</td>\n",
       "      <td>Lincoln Ave &amp; Diversey Pkwy</td>\n",
       "      <td>152.0</td>\n",
       "      <td>41.8964</td>\n",
       "      <td>-87.6610</td>\n",
       "      <td>41.9322</td>\n",
       "      <td>-87.6586</td>\n",
       "      <td>member</td>\n",
       "      <td>0:26:49</td>\n",
       "      <td>Sun</td>\n",
       "    </tr>\n",
       "    <tr>\n",
       "      <th>1</th>\n",
       "      <td>5405B80E996FF60D</td>\n",
       "      <td>docked_bike</td>\n",
       "      <td>4/17/2020 17:08</td>\n",
       "      <td>4/17/2020 17:17</td>\n",
       "      <td>Drake Ave &amp; Fullerton Ave</td>\n",
       "      <td>503</td>\n",
       "      <td>Kosciuszko Park</td>\n",
       "      <td>499.0</td>\n",
       "      <td>41.9244</td>\n",
       "      <td>-87.7154</td>\n",
       "      <td>41.9306</td>\n",
       "      <td>-87.7238</td>\n",
       "      <td>member</td>\n",
       "      <td>0:08:09</td>\n",
       "      <td>Fri</td>\n",
       "    </tr>\n",
       "    <tr>\n",
       "      <th>2</th>\n",
       "      <td>5DD24A79A4E006F4</td>\n",
       "      <td>docked_bike</td>\n",
       "      <td>4/1/2020 17:54</td>\n",
       "      <td>4/1/2020 18:08</td>\n",
       "      <td>McClurg Ct &amp; Erie St</td>\n",
       "      <td>142</td>\n",
       "      <td>Indiana Ave &amp; Roosevelt Rd</td>\n",
       "      <td>255.0</td>\n",
       "      <td>41.8945</td>\n",
       "      <td>-87.6179</td>\n",
       "      <td>41.8679</td>\n",
       "      <td>-87.6230</td>\n",
       "      <td>member</td>\n",
       "      <td>0:14:23</td>\n",
       "      <td>Wed</td>\n",
       "    </tr>\n",
       "    <tr>\n",
       "      <th>3</th>\n",
       "      <td>2A59BBDF5CDBA725</td>\n",
       "      <td>docked_bike</td>\n",
       "      <td>4/7/2020 12:50</td>\n",
       "      <td>4/7/2020 13:02</td>\n",
       "      <td>California Ave &amp; Division St</td>\n",
       "      <td>216</td>\n",
       "      <td>Wood St &amp; Augusta Blvd</td>\n",
       "      <td>657.0</td>\n",
       "      <td>41.9030</td>\n",
       "      <td>-87.6975</td>\n",
       "      <td>41.8992</td>\n",
       "      <td>-87.6722</td>\n",
       "      <td>member</td>\n",
       "      <td>0:12:12</td>\n",
       "      <td>Tue</td>\n",
       "    </tr>\n",
       "    <tr>\n",
       "      <th>4</th>\n",
       "      <td>27AD306C119C6158</td>\n",
       "      <td>docked_bike</td>\n",
       "      <td>4/18/2020 10:22</td>\n",
       "      <td>4/18/2020 11:15</td>\n",
       "      <td>Rush St &amp; Hubbard St</td>\n",
       "      <td>125</td>\n",
       "      <td>Sheridan Rd &amp; Lawrence Ave</td>\n",
       "      <td>323.0</td>\n",
       "      <td>41.8902</td>\n",
       "      <td>-87.6262</td>\n",
       "      <td>41.9695</td>\n",
       "      <td>-87.6547</td>\n",
       "      <td>casual</td>\n",
       "      <td>0:52:55</td>\n",
       "      <td>Sat</td>\n",
       "    </tr>\n",
       "  </tbody>\n",
       "</table>\n",
       "</div>"
      ],
      "text/plain": [
       "            ride_id rideable_type       started_at         ended_at  \\\n",
       "0  A847FADBBC638E45   docked_bike  4/26/2020 17:45  4/26/2020 18:12   \n",
       "1  5405B80E996FF60D   docked_bike  4/17/2020 17:08  4/17/2020 17:17   \n",
       "2  5DD24A79A4E006F4   docked_bike   4/1/2020 17:54   4/1/2020 18:08   \n",
       "3  2A59BBDF5CDBA725   docked_bike   4/7/2020 12:50   4/7/2020 13:02   \n",
       "4  27AD306C119C6158   docked_bike  4/18/2020 10:22  4/18/2020 11:15   \n",
       "\n",
       "             start_station_name  start_station_id  \\\n",
       "0                  Eckhart Park                86   \n",
       "1     Drake Ave & Fullerton Ave               503   \n",
       "2          McClurg Ct & Erie St               142   \n",
       "3  California Ave & Division St               216   \n",
       "4          Rush St & Hubbard St               125   \n",
       "\n",
       "              end_station_name  end_station_id  start_lat  start_lng  end_lat  \\\n",
       "0  Lincoln Ave & Diversey Pkwy           152.0    41.8964   -87.6610  41.9322   \n",
       "1              Kosciuszko Park           499.0    41.9244   -87.7154  41.9306   \n",
       "2   Indiana Ave & Roosevelt Rd           255.0    41.8945   -87.6179  41.8679   \n",
       "3       Wood St & Augusta Blvd           657.0    41.9030   -87.6975  41.8992   \n",
       "4   Sheridan Rd & Lawrence Ave           323.0    41.8902   -87.6262  41.9695   \n",
       "\n",
       "   end_lng member_casual ride_len day_of_week  \n",
       "0 -87.6586        member  0:26:49         Sun  \n",
       "1 -87.7238        member  0:08:09         Fri  \n",
       "2 -87.6230        member  0:14:23         Wed  \n",
       "3 -87.6722        member  0:12:12         Tue  \n",
       "4 -87.6547        casual  0:52:55         Sat  "
      ]
     },
     "execution_count": 5,
     "metadata": {},
     "output_type": "execute_result"
    }
   ],
   "source": [
    "li[0].head()"
   ]
  },
  {
   "cell_type": "code",
   "execution_count": 6,
   "id": "fb6e447f",
   "metadata": {},
   "outputs": [
    {
     "data": {
      "text/plain": [
       "array(['classic_bike', 'electric_bike', 'docked_bike'], dtype=object)"
      ]
     },
     "execution_count": 6,
     "metadata": {},
     "output_type": "execute_result"
    }
   ],
   "source": [
    "li[10]['rideable_type'].unique()"
   ]
  },
  {
   "cell_type": "markdown",
   "id": "2eb692da",
   "metadata": {},
   "source": [
    "#### It looks like \"rideable_type\" column  contains 3 type of bike i.e 'classic_bike', 'electric_bike' and 'docked_bike' and other columns like \n",
    "* \"started_at\" and \"ended_at\" columns contains date and time the rider started and ended his ride trip respectively\n",
    "* \"start_station_name\" and \"end_station_name\" columns contains name of starting and ending station name\n",
    "* \"start_station_id\" and \"end_station_id\" columns contains name of starting id and ending station id \n",
    "* start_lat,start_lng,end_lat and end_lng contains just the latitude and longitude of start and end station"
   ]
  },
  {
   "cell_type": "markdown",
   "id": "96274fae",
   "metadata": {},
   "source": [
    "# Data processing\n",
    "#### First I will perform common data cleaning processes like\n",
    "* I will combine all the datasets in one and start cleaning process as it would make it more efficient\n",
    "* I will try to fill the missing values which can be filled and if we can't than I will remove it as our data is big some missing values wont affect our analysis\n",
    "* I will remove the duplicat values\n",
    "* I will also change the data types of the columns as per data type contained by them\n",
    "* I will also remove the outliers"
   ]
  },
  {
   "cell_type": "code",
   "execution_count": 7,
   "id": "bafeea21",
   "metadata": {},
   "outputs": [],
   "source": [
    "df = pd.concat(li,ignore_index=True,axis=0)"
   ]
  },
  {
   "cell_type": "code",
   "execution_count": 8,
   "id": "2b653e7e",
   "metadata": {},
   "outputs": [
    {
     "data": {
      "text/html": [
       "<div>\n",
       "<style scoped>\n",
       "    .dataframe tbody tr th:only-of-type {\n",
       "        vertical-align: middle;\n",
       "    }\n",
       "\n",
       "    .dataframe tbody tr th {\n",
       "        vertical-align: top;\n",
       "    }\n",
       "\n",
       "    .dataframe thead th {\n",
       "        text-align: right;\n",
       "    }\n",
       "</style>\n",
       "<table border=\"1\" class=\"dataframe\">\n",
       "  <thead>\n",
       "    <tr style=\"text-align: right;\">\n",
       "      <th></th>\n",
       "      <th>ride_id</th>\n",
       "      <th>rideable_type</th>\n",
       "      <th>started_at</th>\n",
       "      <th>ended_at</th>\n",
       "      <th>start_station_name</th>\n",
       "      <th>start_station_id</th>\n",
       "      <th>end_station_name</th>\n",
       "      <th>end_station_id</th>\n",
       "      <th>start_lat</th>\n",
       "      <th>start_lng</th>\n",
       "      <th>end_lat</th>\n",
       "      <th>end_lng</th>\n",
       "      <th>member_casual</th>\n",
       "      <th>ride_len</th>\n",
       "      <th>day_of_week</th>\n",
       "    </tr>\n",
       "  </thead>\n",
       "  <tbody>\n",
       "    <tr>\n",
       "      <th>0</th>\n",
       "      <td>A847FADBBC638E45</td>\n",
       "      <td>docked_bike</td>\n",
       "      <td>4/26/2020 17:45</td>\n",
       "      <td>4/26/2020 18:12</td>\n",
       "      <td>Eckhart Park</td>\n",
       "      <td>86</td>\n",
       "      <td>Lincoln Ave &amp; Diversey Pkwy</td>\n",
       "      <td>152.0</td>\n",
       "      <td>41.8964</td>\n",
       "      <td>-87.6610</td>\n",
       "      <td>41.9322</td>\n",
       "      <td>-87.6586</td>\n",
       "      <td>member</td>\n",
       "      <td>0:26:49</td>\n",
       "      <td>Sun</td>\n",
       "    </tr>\n",
       "    <tr>\n",
       "      <th>1</th>\n",
       "      <td>5405B80E996FF60D</td>\n",
       "      <td>docked_bike</td>\n",
       "      <td>4/17/2020 17:08</td>\n",
       "      <td>4/17/2020 17:17</td>\n",
       "      <td>Drake Ave &amp; Fullerton Ave</td>\n",
       "      <td>503</td>\n",
       "      <td>Kosciuszko Park</td>\n",
       "      <td>499.0</td>\n",
       "      <td>41.9244</td>\n",
       "      <td>-87.7154</td>\n",
       "      <td>41.9306</td>\n",
       "      <td>-87.7238</td>\n",
       "      <td>member</td>\n",
       "      <td>0:08:09</td>\n",
       "      <td>Fri</td>\n",
       "    </tr>\n",
       "  </tbody>\n",
       "</table>\n",
       "</div>"
      ],
      "text/plain": [
       "            ride_id rideable_type       started_at         ended_at  \\\n",
       "0  A847FADBBC638E45   docked_bike  4/26/2020 17:45  4/26/2020 18:12   \n",
       "1  5405B80E996FF60D   docked_bike  4/17/2020 17:08  4/17/2020 17:17   \n",
       "\n",
       "          start_station_name start_station_id             end_station_name  \\\n",
       "0               Eckhart Park               86  Lincoln Ave & Diversey Pkwy   \n",
       "1  Drake Ave & Fullerton Ave              503              Kosciuszko Park   \n",
       "\n",
       "  end_station_id  start_lat  start_lng  end_lat  end_lng member_casual  \\\n",
       "0          152.0    41.8964   -87.6610  41.9322 -87.6586        member   \n",
       "1          499.0    41.9244   -87.7154  41.9306 -87.7238        member   \n",
       "\n",
       "  ride_len day_of_week  \n",
       "0  0:26:49         Sun  \n",
       "1  0:08:09         Fri  "
      ]
     },
     "execution_count": 8,
     "metadata": {},
     "output_type": "execute_result"
    }
   ],
   "source": [
    "df.head(2)"
   ]
  },
  {
   "cell_type": "code",
   "execution_count": 9,
   "id": "f15218be",
   "metadata": {},
   "outputs": [
    {
     "name": "stdout",
     "output_type": "stream",
     "text": [
      "<class 'pandas.core.frame.DataFrame'>\n",
      "RangeIndex: 3480760 entries, 0 to 3480759\n",
      "Data columns (total 15 columns):\n",
      " #   Column              Dtype  \n",
      "---  ------              -----  \n",
      " 0   ride_id             object \n",
      " 1   rideable_type       object \n",
      " 2   started_at          object \n",
      " 3   ended_at            object \n",
      " 4   start_station_name  object \n",
      " 5   start_station_id    object \n",
      " 6   end_station_name    object \n",
      " 7   end_station_id      object \n",
      " 8   start_lat           float64\n",
      " 9   start_lng           float64\n",
      " 10  end_lat             float64\n",
      " 11  end_lng             float64\n",
      " 12  member_casual       object \n",
      " 13  ride_len            object \n",
      " 14  day_of_week         object \n",
      "dtypes: float64(4), object(11)\n",
      "memory usage: 398.3+ MB\n"
     ]
    }
   ],
   "source": [
    "df.info()"
   ]
  },
  {
   "cell_type": "markdown",
   "id": "0d059fdc",
   "metadata": {},
   "source": [
    "#### From above we can observe that our total number of data in combined state is 3,480,760 before cleaning "
   ]
  },
  {
   "cell_type": "code",
   "execution_count": 10,
   "id": "9b540217",
   "metadata": {},
   "outputs": [],
   "source": [
    "df['started_at'] = pd.to_datetime(df['started_at'])"
   ]
  },
  {
   "cell_type": "code",
   "execution_count": 11,
   "id": "bccb2e86",
   "metadata": {},
   "outputs": [],
   "source": [
    "df['ended_at'] = pd.to_datetime(df['ended_at'])"
   ]
  },
  {
   "cell_type": "code",
   "execution_count": 12,
   "id": "7927b119",
   "metadata": {},
   "outputs": [],
   "source": [
    "df['ride_len'] = df['ended_at'] - df['started_at']"
   ]
  },
  {
   "cell_type": "code",
   "execution_count": 13,
   "id": "0061447e",
   "metadata": {},
   "outputs": [],
   "source": [
    "df['day_of_week'] = df['started_at'].dt.day_name()"
   ]
  },
  {
   "cell_type": "code",
   "execution_count": 14,
   "id": "c07afa7d",
   "metadata": {},
   "outputs": [],
   "source": [
    "cleaned_df = df[df['started_at'] < df['ended_at']]"
   ]
  },
  {
   "cell_type": "code",
   "execution_count": 15,
   "id": "8dfea59c",
   "metadata": {},
   "outputs": [
    {
     "data": {
      "text/plain": [
       "ride_id                    0\n",
       "rideable_type              0\n",
       "started_at                 0\n",
       "ended_at                   0\n",
       "start_station_name    120126\n",
       "start_station_id      120727\n",
       "end_station_name      140688\n",
       "end_station_id        141124\n",
       "start_lat                  0\n",
       "start_lng                  0\n",
       "end_lat                 4649\n",
       "end_lng                 4649\n",
       "member_casual              0\n",
       "ride_len                   0\n",
       "day_of_week                0\n",
       "dtype: int64"
      ]
     },
     "execution_count": 15,
     "metadata": {},
     "output_type": "execute_result"
    }
   ],
   "source": [
    "cleaned_df.isna().sum()"
   ]
  },
  {
   "cell_type": "code",
   "execution_count": 16,
   "id": "1f24760a",
   "metadata": {},
   "outputs": [
    {
     "name": "stdout",
     "output_type": "stream",
     "text": [
      "<class 'pandas.core.frame.DataFrame'>\n",
      "Int64Index: 3454168 entries, 0 to 3480759\n",
      "Data columns (total 15 columns):\n",
      " #   Column              Dtype          \n",
      "---  ------              -----          \n",
      " 0   ride_id             object         \n",
      " 1   rideable_type       object         \n",
      " 2   started_at          datetime64[ns] \n",
      " 3   ended_at            datetime64[ns] \n",
      " 4   start_station_name  object         \n",
      " 5   start_station_id    object         \n",
      " 6   end_station_name    object         \n",
      " 7   end_station_id      object         \n",
      " 8   start_lat           float64        \n",
      " 9   start_lng           float64        \n",
      " 10  end_lat             float64        \n",
      " 11  end_lng             float64        \n",
      " 12  member_casual       object         \n",
      " 13  ride_len            timedelta64[ns]\n",
      " 14  day_of_week         object         \n",
      "dtypes: datetime64[ns](2), float64(4), object(8), timedelta64[ns](1)\n",
      "memory usage: 421.7+ MB\n"
     ]
    }
   ],
   "source": [
    "cleaned_df.info()"
   ]
  },
  {
   "cell_type": "code",
   "execution_count": 17,
   "id": "da473f02",
   "metadata": {
    "scrolled": true
   },
   "outputs": [
    {
     "data": {
      "text/plain": [
       "3453683"
      ]
     },
     "execution_count": 17,
     "metadata": {},
     "output_type": "execute_result"
    }
   ],
   "source": [
    "cleaned_df['ride_id'].nunique()"
   ]
  },
  {
   "cell_type": "markdown",
   "id": "266e86db",
   "metadata": {},
   "source": [
    "##### We can observer that \"ride_id\" column contains some repeating value which can be due to some error  so I will remove the rows containing repeated value and also I will try to fill NAN (missing) value\n",
    "* I have added new two columns \"ride_len\" and \"day_of_week\""
   ]
  },
  {
   "cell_type": "code",
   "execution_count": 18,
   "id": "c52e5887",
   "metadata": {},
   "outputs": [],
   "source": [
    "clean_df = cleaned_df.drop_duplicates(subset=['ride_id'])"
   ]
  },
  {
   "cell_type": "markdown",
   "id": "96904543",
   "metadata": {},
   "source": [
    "#### As our datasets contain more than 3 millions row so we will drop rows with missing values\n",
    "* Later i might try to fill them by matching lon,lag with stations name and see if it makes any difference but i doubt that as our dataset already have enough data"
   ]
  },
  {
   "cell_type": "code",
   "execution_count": 19,
   "id": "22413aff",
   "metadata": {
    "scrolled": true
   },
   "outputs": [
    {
     "data": {
      "text/html": [
       "<div>\n",
       "<style scoped>\n",
       "    .dataframe tbody tr th:only-of-type {\n",
       "        vertical-align: middle;\n",
       "    }\n",
       "\n",
       "    .dataframe tbody tr th {\n",
       "        vertical-align: top;\n",
       "    }\n",
       "\n",
       "    .dataframe thead th {\n",
       "        text-align: right;\n",
       "    }\n",
       "</style>\n",
       "<table border=\"1\" class=\"dataframe\">\n",
       "  <thead>\n",
       "    <tr style=\"text-align: right;\">\n",
       "      <th></th>\n",
       "      <th>start_lat</th>\n",
       "      <th>start_lng</th>\n",
       "      <th>end_lat</th>\n",
       "      <th>end_lng</th>\n",
       "      <th>ride_len</th>\n",
       "    </tr>\n",
       "  </thead>\n",
       "  <tbody>\n",
       "    <tr>\n",
       "      <th>count</th>\n",
       "      <td>3.453683e+06</td>\n",
       "      <td>3.453683e+06</td>\n",
       "      <td>3.449035e+06</td>\n",
       "      <td>3.449035e+06</td>\n",
       "      <td>3453683</td>\n",
       "    </tr>\n",
       "    <tr>\n",
       "      <th>mean</th>\n",
       "      <td>4.190419e+01</td>\n",
       "      <td>-8.764489e+01</td>\n",
       "      <td>4.190446e+01</td>\n",
       "      <td>-8.764516e+01</td>\n",
       "      <td>0 days 00:28:09.202647145</td>\n",
       "    </tr>\n",
       "    <tr>\n",
       "      <th>std</th>\n",
       "      <td>4.365166e-02</td>\n",
       "      <td>2.565774e-02</td>\n",
       "      <td>4.374419e-02</td>\n",
       "      <td>2.579043e-02</td>\n",
       "      <td>0 days 04:13:46.162676925</td>\n",
       "    </tr>\n",
       "    <tr>\n",
       "      <th>min</th>\n",
       "      <td>4.164000e+01</td>\n",
       "      <td>-8.787000e+01</td>\n",
       "      <td>4.154000e+01</td>\n",
       "      <td>-8.807000e+01</td>\n",
       "      <td>0 days 00:00:01</td>\n",
       "    </tr>\n",
       "    <tr>\n",
       "      <th>25%</th>\n",
       "      <td>4.188224e+01</td>\n",
       "      <td>-8.765887e+01</td>\n",
       "      <td>4.188266e+01</td>\n",
       "      <td>-8.765916e+01</td>\n",
       "      <td>0 days 00:08:00</td>\n",
       "    </tr>\n",
       "    <tr>\n",
       "      <th>50%</th>\n",
       "      <td>4.190022e+01</td>\n",
       "      <td>-8.764170e+01</td>\n",
       "      <td>4.190068e+01</td>\n",
       "      <td>-8.764275e+01</td>\n",
       "      <td>0 days 00:15:00</td>\n",
       "    </tr>\n",
       "    <tr>\n",
       "      <th>75%</th>\n",
       "      <td>4.193000e+01</td>\n",
       "      <td>-8.762773e+01</td>\n",
       "      <td>4.193124e+01</td>\n",
       "      <td>-8.762775e+01</td>\n",
       "      <td>0 days 00:27:00</td>\n",
       "    </tr>\n",
       "    <tr>\n",
       "      <th>max</th>\n",
       "      <td>4.208000e+01</td>\n",
       "      <td>-8.752000e+01</td>\n",
       "      <td>4.216000e+01</td>\n",
       "      <td>-8.744000e+01</td>\n",
       "      <td>40 days 18:40:00</td>\n",
       "    </tr>\n",
       "  </tbody>\n",
       "</table>\n",
       "</div>"
      ],
      "text/plain": [
       "          start_lat     start_lng       end_lat       end_lng  \\\n",
       "count  3.453683e+06  3.453683e+06  3.449035e+06  3.449035e+06   \n",
       "mean   4.190419e+01 -8.764489e+01  4.190446e+01 -8.764516e+01   \n",
       "std    4.365166e-02  2.565774e-02  4.374419e-02  2.579043e-02   \n",
       "min    4.164000e+01 -8.787000e+01  4.154000e+01 -8.807000e+01   \n",
       "25%    4.188224e+01 -8.765887e+01  4.188266e+01 -8.765916e+01   \n",
       "50%    4.190022e+01 -8.764170e+01  4.190068e+01 -8.764275e+01   \n",
       "75%    4.193000e+01 -8.762773e+01  4.193124e+01 -8.762775e+01   \n",
       "max    4.208000e+01 -8.752000e+01  4.216000e+01 -8.744000e+01   \n",
       "\n",
       "                        ride_len  \n",
       "count                    3453683  \n",
       "mean   0 days 00:28:09.202647145  \n",
       "std    0 days 04:13:46.162676925  \n",
       "min              0 days 00:00:01  \n",
       "25%              0 days 00:08:00  \n",
       "50%              0 days 00:15:00  \n",
       "75%              0 days 00:27:00  \n",
       "max             40 days 18:40:00  "
      ]
     },
     "execution_count": 19,
     "metadata": {},
     "output_type": "execute_result"
    }
   ],
   "source": [
    "clean_df.describe()"
   ]
  },
  {
   "cell_type": "code",
   "execution_count": 20,
   "id": "c5ae5436",
   "metadata": {},
   "outputs": [],
   "source": [
    "clean_df = clean_df.dropna()"
   ]
  },
  {
   "cell_type": "code",
   "execution_count": 21,
   "id": "e3141cfd",
   "metadata": {},
   "outputs": [
    {
     "data": {
      "text/plain": [
       "(3261305, 15)"
      ]
     },
     "execution_count": 21,
     "metadata": {},
     "output_type": "execute_result"
    }
   ],
   "source": [
    "clean_df.shape"
   ]
  },
  {
   "cell_type": "code",
   "execution_count": 22,
   "id": "c057da92",
   "metadata": {},
   "outputs": [],
   "source": [
    "start_lat = clean_df['start_lat']\n",
    "start_lng = clean_df['start_lng']\n",
    "end_lat = clean_df['end_lat']\n",
    "end_lng = clean_df['end_lng']"
   ]
  },
  {
   "cell_type": "code",
   "execution_count": 23,
   "id": "4776db36",
   "metadata": {},
   "outputs": [],
   "source": [
    "origin = []\n",
    "destination = []\n",
    "distance_km = []"
   ]
  },
  {
   "cell_type": "code",
   "execution_count": 24,
   "id": "25536d08",
   "metadata": {},
   "outputs": [],
   "source": [
    "def make_origin_destination(sl,slg,endl,endlg):\n",
    "    for sl,slg in zip(sl,slg):\n",
    "        origin.append((sl,slg))\n",
    "    for i,j in zip(endl,endlg):\n",
    "        destination.append((i,j))"
   ]
  },
  {
   "cell_type": "code",
   "execution_count": 25,
   "id": "f0b03b5c",
   "metadata": {},
   "outputs": [],
   "source": [
    "make_origin_destination(start_lat,start_lng,end_lat,end_lng)"
   ]
  },
  {
   "cell_type": "code",
   "execution_count": 26,
   "id": "9e218a0c",
   "metadata": {},
   "outputs": [],
   "source": [
    "def distance_converter(origin,destination):\n",
    "    for o,d in zip(origin,destination):\n",
    "        distance_km.append(geodesic(o,d).km)"
   ]
  },
  {
   "cell_type": "code",
   "execution_count": 27,
   "id": "3b2a9490",
   "metadata": {},
   "outputs": [],
   "source": [
    "distance_converter(origin,destination)"
   ]
  },
  {
   "cell_type": "code",
   "execution_count": 28,
   "id": "85c13040",
   "metadata": {},
   "outputs": [],
   "source": [
    "clean_df['distance_km'] = distance_km"
   ]
  },
  {
   "cell_type": "code",
   "execution_count": 29,
   "id": "1e464772",
   "metadata": {},
   "outputs": [
    {
     "data": {
      "text/plain": [
       "ride_id               0\n",
       "rideable_type         0\n",
       "started_at            0\n",
       "ended_at              0\n",
       "start_station_name    0\n",
       "start_station_id      0\n",
       "end_station_name      0\n",
       "end_station_id        0\n",
       "start_lat             0\n",
       "start_lng             0\n",
       "end_lat               0\n",
       "end_lng               0\n",
       "member_casual         0\n",
       "ride_len              0\n",
       "day_of_week           0\n",
       "distance_km           0\n",
       "dtype: int64"
      ]
     },
     "execution_count": 29,
     "metadata": {},
     "output_type": "execute_result"
    }
   ],
   "source": [
    "clean_df.isna().sum()"
   ]
  },
  {
   "cell_type": "code",
   "execution_count": 30,
   "id": "d8761e8e",
   "metadata": {},
   "outputs": [
    {
     "data": {
      "text/html": [
       "<div>\n",
       "<style scoped>\n",
       "    .dataframe tbody tr th:only-of-type {\n",
       "        vertical-align: middle;\n",
       "    }\n",
       "\n",
       "    .dataframe tbody tr th {\n",
       "        vertical-align: top;\n",
       "    }\n",
       "\n",
       "    .dataframe thead th {\n",
       "        text-align: right;\n",
       "    }\n",
       "</style>\n",
       "<table border=\"1\" class=\"dataframe\">\n",
       "  <thead>\n",
       "    <tr style=\"text-align: right;\">\n",
       "      <th></th>\n",
       "      <th>ride_id</th>\n",
       "      <th>rideable_type</th>\n",
       "      <th>started_at</th>\n",
       "      <th>ended_at</th>\n",
       "      <th>start_station_name</th>\n",
       "      <th>start_station_id</th>\n",
       "      <th>end_station_name</th>\n",
       "      <th>end_station_id</th>\n",
       "      <th>start_lat</th>\n",
       "      <th>start_lng</th>\n",
       "      <th>end_lat</th>\n",
       "      <th>end_lng</th>\n",
       "      <th>member_casual</th>\n",
       "      <th>ride_len</th>\n",
       "      <th>day_of_week</th>\n",
       "      <th>distance_km</th>\n",
       "    </tr>\n",
       "  </thead>\n",
       "  <tbody>\n",
       "    <tr>\n",
       "      <th>0</th>\n",
       "      <td>A847FADBBC638E45</td>\n",
       "      <td>docked_bike</td>\n",
       "      <td>2020-04-26 17:45:00</td>\n",
       "      <td>2020-04-26 18:12:00</td>\n",
       "      <td>Eckhart Park</td>\n",
       "      <td>86</td>\n",
       "      <td>Lincoln Ave &amp; Diversey Pkwy</td>\n",
       "      <td>152.0</td>\n",
       "      <td>41.8964</td>\n",
       "      <td>-87.6610</td>\n",
       "      <td>41.9322</td>\n",
       "      <td>-87.6586</td>\n",
       "      <td>member</td>\n",
       "      <td>0 days 00:27:00</td>\n",
       "      <td>Sunday</td>\n",
       "      <td>3.981346</td>\n",
       "    </tr>\n",
       "    <tr>\n",
       "      <th>1</th>\n",
       "      <td>5405B80E996FF60D</td>\n",
       "      <td>docked_bike</td>\n",
       "      <td>2020-04-17 17:08:00</td>\n",
       "      <td>2020-04-17 17:17:00</td>\n",
       "      <td>Drake Ave &amp; Fullerton Ave</td>\n",
       "      <td>503</td>\n",
       "      <td>Kosciuszko Park</td>\n",
       "      <td>499.0</td>\n",
       "      <td>41.9244</td>\n",
       "      <td>-87.7154</td>\n",
       "      <td>41.9306</td>\n",
       "      <td>-87.7238</td>\n",
       "      <td>member</td>\n",
       "      <td>0 days 00:09:00</td>\n",
       "      <td>Friday</td>\n",
       "      <td>0.979629</td>\n",
       "    </tr>\n",
       "    <tr>\n",
       "      <th>2</th>\n",
       "      <td>5DD24A79A4E006F4</td>\n",
       "      <td>docked_bike</td>\n",
       "      <td>2020-04-01 17:54:00</td>\n",
       "      <td>2020-04-01 18:08:00</td>\n",
       "      <td>McClurg Ct &amp; Erie St</td>\n",
       "      <td>142</td>\n",
       "      <td>Indiana Ave &amp; Roosevelt Rd</td>\n",
       "      <td>255.0</td>\n",
       "      <td>41.8945</td>\n",
       "      <td>-87.6179</td>\n",
       "      <td>41.8679</td>\n",
       "      <td>-87.6230</td>\n",
       "      <td>member</td>\n",
       "      <td>0 days 00:14:00</td>\n",
       "      <td>Wednesday</td>\n",
       "      <td>2.984661</td>\n",
       "    </tr>\n",
       "  </tbody>\n",
       "</table>\n",
       "</div>"
      ],
      "text/plain": [
       "            ride_id rideable_type          started_at            ended_at  \\\n",
       "0  A847FADBBC638E45   docked_bike 2020-04-26 17:45:00 2020-04-26 18:12:00   \n",
       "1  5405B80E996FF60D   docked_bike 2020-04-17 17:08:00 2020-04-17 17:17:00   \n",
       "2  5DD24A79A4E006F4   docked_bike 2020-04-01 17:54:00 2020-04-01 18:08:00   \n",
       "\n",
       "          start_station_name start_station_id             end_station_name  \\\n",
       "0               Eckhart Park               86  Lincoln Ave & Diversey Pkwy   \n",
       "1  Drake Ave & Fullerton Ave              503              Kosciuszko Park   \n",
       "2       McClurg Ct & Erie St              142   Indiana Ave & Roosevelt Rd   \n",
       "\n",
       "  end_station_id  start_lat  start_lng  end_lat  end_lng member_casual  \\\n",
       "0          152.0    41.8964   -87.6610  41.9322 -87.6586        member   \n",
       "1          499.0    41.9244   -87.7154  41.9306 -87.7238        member   \n",
       "2          255.0    41.8945   -87.6179  41.8679 -87.6230        member   \n",
       "\n",
       "         ride_len day_of_week  distance_km  \n",
       "0 0 days 00:27:00      Sunday     3.981346  \n",
       "1 0 days 00:09:00      Friday     0.979629  \n",
       "2 0 days 00:14:00   Wednesday     2.984661  "
      ]
     },
     "execution_count": 30,
     "metadata": {},
     "output_type": "execute_result"
    }
   ],
   "source": [
    "clean_df.head(3)"
   ]
  },
  {
   "cell_type": "code",
   "execution_count": 31,
   "id": "ece0ac6a",
   "metadata": {},
   "outputs": [
    {
     "data": {
      "text/plain": [
       "(3261305, 16)"
      ]
     },
     "execution_count": 31,
     "metadata": {},
     "output_type": "execute_result"
    }
   ],
   "source": [
    "clean_df.shape"
   ]
  },
  {
   "cell_type": "markdown",
   "id": "868db165",
   "metadata": {},
   "source": [
    "##### I have dropped the missing value rows and also added new column called \"distance_km\" by computing values of latitude and longitude columns "
   ]
  },
  {
   "cell_type": "markdown",
   "id": "f5ee5fa6",
   "metadata": {},
   "source": [
    "# DATA ANALYSIS"
   ]
  },
  {
   "cell_type": "code",
   "execution_count": 32,
   "id": "7c01012a",
   "metadata": {},
   "outputs": [],
   "source": [
    "new_df = clean_df.groupby(['day_of_week','member_casual'],as_index=False)['ride_len'].agg(['mean','max','min'])"
   ]
  },
  {
   "cell_type": "code",
   "execution_count": 33,
   "id": "6ca9b7d5",
   "metadata": {
    "scrolled": true
   },
   "outputs": [
    {
     "data": {
      "text/html": [
       "<div>\n",
       "<style scoped>\n",
       "    .dataframe tbody tr th:only-of-type {\n",
       "        vertical-align: middle;\n",
       "    }\n",
       "\n",
       "    .dataframe tbody tr th {\n",
       "        vertical-align: top;\n",
       "    }\n",
       "\n",
       "    .dataframe thead th {\n",
       "        text-align: right;\n",
       "    }\n",
       "</style>\n",
       "<table border=\"1\" class=\"dataframe\">\n",
       "  <thead>\n",
       "    <tr style=\"text-align: right;\">\n",
       "      <th></th>\n",
       "      <th>day_of_week</th>\n",
       "      <th>member_casual</th>\n",
       "      <th>mean</th>\n",
       "      <th>max</th>\n",
       "      <th>min</th>\n",
       "    </tr>\n",
       "  </thead>\n",
       "  <tbody>\n",
       "    <tr>\n",
       "      <th>0</th>\n",
       "      <td>Friday</td>\n",
       "      <td>casual</td>\n",
       "      <td>0 days 00:43:32.856800196</td>\n",
       "      <td>38 days 16:04:00</td>\n",
       "      <td>0 days 00:00:01</td>\n",
       "    </tr>\n",
       "    <tr>\n",
       "      <th>1</th>\n",
       "      <td>Friday</td>\n",
       "      <td>member</td>\n",
       "      <td>0 days 00:15:41.036965340</td>\n",
       "      <td>8 days 06:17:00</td>\n",
       "      <td>0 days 00:00:01</td>\n",
       "    </tr>\n",
       "    <tr>\n",
       "      <th>2</th>\n",
       "      <td>Monday</td>\n",
       "      <td>casual</td>\n",
       "      <td>0 days 00:45:48.410395154</td>\n",
       "      <td>32 days 01:25:00</td>\n",
       "      <td>0 days 00:00:01</td>\n",
       "    </tr>\n",
       "    <tr>\n",
       "      <th>3</th>\n",
       "      <td>Monday</td>\n",
       "      <td>member</td>\n",
       "      <td>0 days 00:15:11.934601298</td>\n",
       "      <td>23 days 05:01:00</td>\n",
       "      <td>0 days 00:00:01</td>\n",
       "    </tr>\n",
       "    <tr>\n",
       "      <th>4</th>\n",
       "      <td>Saturday</td>\n",
       "      <td>casual</td>\n",
       "      <td>0 days 00:47:30.367047400</td>\n",
       "      <td>35 days 04:53:00</td>\n",
       "      <td>0 days 00:00:01</td>\n",
       "    </tr>\n",
       "    <tr>\n",
       "      <th>5</th>\n",
       "      <td>Saturday</td>\n",
       "      <td>member</td>\n",
       "      <td>0 days 00:17:49.871180369</td>\n",
       "      <td>37 days 14:25:00</td>\n",
       "      <td>0 days 00:00:01</td>\n",
       "    </tr>\n",
       "    <tr>\n",
       "      <th>6</th>\n",
       "      <td>Sunday</td>\n",
       "      <td>casual</td>\n",
       "      <td>0 days 00:51:20.730845315</td>\n",
       "      <td>35 days 12:26:00</td>\n",
       "      <td>0 days 00:00:01</td>\n",
       "    </tr>\n",
       "    <tr>\n",
       "      <th>7</th>\n",
       "      <td>Sunday</td>\n",
       "      <td>member</td>\n",
       "      <td>0 days 00:18:17.798064765</td>\n",
       "      <td>40 days 18:40:00</td>\n",
       "      <td>0 days 00:00:01</td>\n",
       "    </tr>\n",
       "    <tr>\n",
       "      <th>8</th>\n",
       "      <td>Thursday</td>\n",
       "      <td>casual</td>\n",
       "      <td>0 days 00:43:54.265133437</td>\n",
       "      <td>32 days 22:11:00</td>\n",
       "      <td>0 days 00:00:01</td>\n",
       "    </tr>\n",
       "    <tr>\n",
       "      <th>9</th>\n",
       "      <td>Thursday</td>\n",
       "      <td>member</td>\n",
       "      <td>0 days 00:15:08.210045224</td>\n",
       "      <td>25 days 02:36:00</td>\n",
       "      <td>0 days 00:00:01</td>\n",
       "    </tr>\n",
       "    <tr>\n",
       "      <th>10</th>\n",
       "      <td>Tuesday</td>\n",
       "      <td>casual</td>\n",
       "      <td>0 days 00:41:13.845442037</td>\n",
       "      <td>33 days 04:37:00</td>\n",
       "      <td>0 days 00:00:01</td>\n",
       "    </tr>\n",
       "    <tr>\n",
       "      <th>11</th>\n",
       "      <td>Tuesday</td>\n",
       "      <td>member</td>\n",
       "      <td>0 days 00:15:05.079232098</td>\n",
       "      <td>10 days 11:45:00</td>\n",
       "      <td>0 days 00:00:01</td>\n",
       "    </tr>\n",
       "    <tr>\n",
       "      <th>12</th>\n",
       "      <td>Wednesday</td>\n",
       "      <td>casual</td>\n",
       "      <td>0 days 00:41:10.198830965</td>\n",
       "      <td>37 days 16:43:00</td>\n",
       "      <td>0 days 00:00:01</td>\n",
       "    </tr>\n",
       "    <tr>\n",
       "      <th>13</th>\n",
       "      <td>Wednesday</td>\n",
       "      <td>member</td>\n",
       "      <td>0 days 00:15:09.617344817</td>\n",
       "      <td>28 days 15:51:00</td>\n",
       "      <td>0 days 00:00:01</td>\n",
       "    </tr>\n",
       "  </tbody>\n",
       "</table>\n",
       "</div>"
      ],
      "text/plain": [
       "   day_of_week member_casual                      mean              max  \\\n",
       "0       Friday        casual 0 days 00:43:32.856800196 38 days 16:04:00   \n",
       "1       Friday        member 0 days 00:15:41.036965340  8 days 06:17:00   \n",
       "2       Monday        casual 0 days 00:45:48.410395154 32 days 01:25:00   \n",
       "3       Monday        member 0 days 00:15:11.934601298 23 days 05:01:00   \n",
       "4     Saturday        casual 0 days 00:47:30.367047400 35 days 04:53:00   \n",
       "5     Saturday        member 0 days 00:17:49.871180369 37 days 14:25:00   \n",
       "6       Sunday        casual 0 days 00:51:20.730845315 35 days 12:26:00   \n",
       "7       Sunday        member 0 days 00:18:17.798064765 40 days 18:40:00   \n",
       "8     Thursday        casual 0 days 00:43:54.265133437 32 days 22:11:00   \n",
       "9     Thursday        member 0 days 00:15:08.210045224 25 days 02:36:00   \n",
       "10     Tuesday        casual 0 days 00:41:13.845442037 33 days 04:37:00   \n",
       "11     Tuesday        member 0 days 00:15:05.079232098 10 days 11:45:00   \n",
       "12   Wednesday        casual 0 days 00:41:10.198830965 37 days 16:43:00   \n",
       "13   Wednesday        member 0 days 00:15:09.617344817 28 days 15:51:00   \n",
       "\n",
       "               min  \n",
       "0  0 days 00:00:01  \n",
       "1  0 days 00:00:01  \n",
       "2  0 days 00:00:01  \n",
       "3  0 days 00:00:01  \n",
       "4  0 days 00:00:01  \n",
       "5  0 days 00:00:01  \n",
       "6  0 days 00:00:01  \n",
       "7  0 days 00:00:01  \n",
       "8  0 days 00:00:01  \n",
       "9  0 days 00:00:01  \n",
       "10 0 days 00:00:01  \n",
       "11 0 days 00:00:01  \n",
       "12 0 days 00:00:01  \n",
       "13 0 days 00:00:01  "
      ]
     },
     "execution_count": 33,
     "metadata": {},
     "output_type": "execute_result"
    }
   ],
   "source": [
    "new_df.reset_index(inplace=True)\n",
    "new_df"
   ]
  },
  {
   "cell_type": "markdown",
   "id": "702bede3",
   "metadata": {},
   "source": [
    "#### We can observer that maximum ride length is over 40 days which can be an error or it can be that some people really rented the bike for over a month.  For exact reason we would need to discuss it with the peoples who collected the data but for now we will analyse the datasets with outliers and without outliers"
   ]
  },
  {
   "cell_type": "markdown",
   "id": "e6ce10f5",
   "metadata": {},
   "source": [
    "### With outliers"
   ]
  },
  {
   "cell_type": "code",
   "execution_count": 34,
   "id": "e7302292",
   "metadata": {},
   "outputs": [
    {
     "data": {
      "text/plain": [
       "Text(0.5, 1.0, 'Days vs Average ride in (min) ')"
      ]
     },
     "execution_count": 34,
     "metadata": {},
     "output_type": "execute_result"
    },
    {
     "data": {
      "image/png": "[encoded data removed]",
      "text/plain": [
       "<Figure size 792x576 with 1 Axes>"
      ]
     },
     "metadata": {
      "needs_background": "light"
     },
     "output_type": "display_data"
    }
   ],
   "source": [
    "y = new_df['mean'].dt.total_seconds()/60\n",
    "X = new_df['day_of_week']\n",
    "plt.figure(figsize=(11,8))\n",
    "sns.set_theme(style=\"darkgrid\")\n",
    "sns.barplot(x=X,y=y,data=new_df,hue='member_casual')\n",
    "plt.xlabel('days of week',size=12,color='blue')\n",
    "plt.ylabel('average ride lenght in minutes',size=12,color='blue')\n",
    "plt.title('Days vs Average ride in (min) ')"
   ]
  },
  {
   "cell_type": "code",
   "execution_count": 35,
   "id": "c8aacc6d",
   "metadata": {},
   "outputs": [
    {
     "data": {
      "text/html": [
       "<div>\n",
       "<style scoped>\n",
       "    .dataframe tbody tr th:only-of-type {\n",
       "        vertical-align: middle;\n",
       "    }\n",
       "\n",
       "    .dataframe tbody tr th {\n",
       "        vertical-align: top;\n",
       "    }\n",
       "\n",
       "    .dataframe thead th {\n",
       "        text-align: right;\n",
       "    }\n",
       "</style>\n",
       "<table border=\"1\" class=\"dataframe\">\n",
       "  <thead>\n",
       "    <tr style=\"text-align: right;\">\n",
       "      <th></th>\n",
       "      <th>day_of_week</th>\n",
       "      <th>member_casual</th>\n",
       "      <th>total_ride</th>\n",
       "    </tr>\n",
       "  </thead>\n",
       "  <tbody>\n",
       "    <tr>\n",
       "      <th>0</th>\n",
       "      <td>Friday</td>\n",
       "      <td>casual</td>\n",
       "      <td>195112</td>\n",
       "    </tr>\n",
       "    <tr>\n",
       "      <th>1</th>\n",
       "      <td>Friday</td>\n",
       "      <td>member</td>\n",
       "      <td>286701</td>\n",
       "    </tr>\n",
       "    <tr>\n",
       "      <th>2</th>\n",
       "      <td>Monday</td>\n",
       "      <td>casual</td>\n",
       "      <td>141008</td>\n",
       "    </tr>\n",
       "    <tr>\n",
       "      <th>3</th>\n",
       "      <td>Monday</td>\n",
       "      <td>member</td>\n",
       "      <td>250112</td>\n",
       "    </tr>\n",
       "    <tr>\n",
       "      <th>4</th>\n",
       "      <td>Saturday</td>\n",
       "      <td>casual</td>\n",
       "      <td>317632</td>\n",
       "    </tr>\n",
       "    <tr>\n",
       "      <th>5</th>\n",
       "      <td>Saturday</td>\n",
       "      <td>member</td>\n",
       "      <td>302058</td>\n",
       "    </tr>\n",
       "    <tr>\n",
       "      <th>6</th>\n",
       "      <td>Sunday</td>\n",
       "      <td>casual</td>\n",
       "      <td>248712</td>\n",
       "    </tr>\n",
       "    <tr>\n",
       "      <th>7</th>\n",
       "      <td>Sunday</td>\n",
       "      <td>member</td>\n",
       "      <td>248342</td>\n",
       "    </tr>\n",
       "    <tr>\n",
       "      <th>8</th>\n",
       "      <td>Thursday</td>\n",
       "      <td>casual</td>\n",
       "      <td>155054</td>\n",
       "    </tr>\n",
       "    <tr>\n",
       "      <th>9</th>\n",
       "      <td>Thursday</td>\n",
       "      <td>member</td>\n",
       "      <td>281706</td>\n",
       "    </tr>\n",
       "    <tr>\n",
       "      <th>10</th>\n",
       "      <td>Tuesday</td>\n",
       "      <td>casual</td>\n",
       "      <td>135192</td>\n",
       "    </tr>\n",
       "    <tr>\n",
       "      <th>11</th>\n",
       "      <td>Tuesday</td>\n",
       "      <td>member</td>\n",
       "      <td>266180</td>\n",
       "    </tr>\n",
       "    <tr>\n",
       "      <th>12</th>\n",
       "      <td>Wednesday</td>\n",
       "      <td>casual</td>\n",
       "      <td>147301</td>\n",
       "    </tr>\n",
       "    <tr>\n",
       "      <th>13</th>\n",
       "      <td>Wednesday</td>\n",
       "      <td>member</td>\n",
       "      <td>286195</td>\n",
       "    </tr>\n",
       "  </tbody>\n",
       "</table>\n",
       "</div>"
      ],
      "text/plain": [
       "   day_of_week member_casual  total_ride\n",
       "0       Friday        casual      195112\n",
       "1       Friday        member      286701\n",
       "2       Monday        casual      141008\n",
       "3       Monday        member      250112\n",
       "4     Saturday        casual      317632\n",
       "5     Saturday        member      302058\n",
       "6       Sunday        casual      248712\n",
       "7       Sunday        member      248342\n",
       "8     Thursday        casual      155054\n",
       "9     Thursday        member      281706\n",
       "10     Tuesday        casual      135192\n",
       "11     Tuesday        member      266180\n",
       "12   Wednesday        casual      147301\n",
       "13   Wednesday        member      286195"
      ]
     },
     "execution_count": 35,
     "metadata": {},
     "output_type": "execute_result"
    }
   ],
   "source": [
    "count_df = clean_df.groupby(['day_of_week','member_casual'],as_index=False)['ride_id'].agg({'total_ride':'count'})\n",
    "count_df"
   ]
  },
  {
   "cell_type": "code",
   "execution_count": 36,
   "id": "2f831310",
   "metadata": {},
   "outputs": [],
   "source": [
    "X = count_df['day_of_week']\n",
    "y = count_df['total_ride']"
   ]
  },
  {
   "cell_type": "code",
   "execution_count": 37,
   "id": "3ad23ecf",
   "metadata": {},
   "outputs": [
    {
     "data": {
      "text/plain": [
       "Text(0.5, 1.0, 'Days vs Number of total ride ')"
      ]
     },
     "execution_count": 37,
     "metadata": {},
     "output_type": "execute_result"
    },
    {
     "data": {
      "image/png": "[encoded data removed]",
      "text/plain": [
       "<Figure size 792x576 with 1 Axes>"
      ]
     },
     "metadata": {},
     "output_type": "display_data"
    }
   ],
   "source": [
    "plt.figure(figsize=(11,8))\n",
    "sns.barplot(x=X,y=y,data=count_df,hue='member_casual')\n",
    "plt.xlabel('days of week',size=12,color='blue')\n",
    "plt.ylabel('total ride',size=12,color='blue')\n",
    "plt.title('Days vs Number of total ride ',color='red')"
   ]
  },
  {
   "cell_type": "markdown",
   "id": "882fc1d8",
   "metadata": {},
   "source": [
    "#### From above charts it 's clear that casual member have preference for weekends but members dont have exact preference "
   ]
  },
  {
   "cell_type": "code",
   "execution_count": 38,
   "id": "c084e316",
   "metadata": {},
   "outputs": [],
   "source": [
    "membership_type = clean_df.loc[:,['ride_len','distance_km','member_casual']]\n",
    "membership_type['ride_len'] = clean_df['ride_len'].dt.total_seconds()/60\n",
    "member_x = membership_type.loc[membership_type['member_casual']=='member','ride_len']\n",
    "member_y = membership_type.loc[membership_type['member_casual']=='member','distance_km']\n",
    "casual_x = membership_type.loc[membership_type['member_casual']=='casual','ride_len']\n",
    "casual_y = membership_type.loc[membership_type['member_casual']=='casual','distance_km']"
   ]
  },
  {
   "cell_type": "code",
   "execution_count": 39,
   "id": "608852cc",
   "metadata": {},
   "outputs": [
    {
     "data": {
      "text/plain": [
       "<AxesSubplot:title={'center':'casual'}, xlabel='ride len in minutes', ylabel='distance_km'>"
      ]
     },
     "execution_count": 39,
     "metadata": {},
     "output_type": "execute_result"
    },
    {
     "data": {
      "image/png": "[encoded data removed]",
      "text/plain": [
       "<Figure size 1080x504 with 2 Axes>"
      ]
     },
     "metadata": {},
     "output_type": "display_data"
    }
   ],
   "source": [
    "fig,axes = plt.subplots(1,2,figsize=(15,7))\n",
    "axes[0].set_title('member',color='green',size=15)\n",
    "axes[0].set_xlabel('ride length in minutes')\n",
    "sns.scatterplot(x=member_x,y=member_y,ax=axes[0])\n",
    "axes[1].set_title('casual',color='red',size=15)\n",
    "axes[1].set_xlabel('ride len in minutes')\n",
    "sns.scatterplot(x=casual_x,y=casual_y,ax=axes[1])"
   ]
  },
  {
   "cell_type": "markdown",
   "id": "98cf30aa",
   "metadata": {},
   "source": [
    "#### We can can observe that casual riders tends to ride longer in average compared to members"
   ]
  },
  {
   "cell_type": "code",
   "execution_count": 41,
   "id": "859efc22",
   "metadata": {},
   "outputs": [
    {
     "data": {
      "text/plain": [
       "Streeter Dr & Grand Ave         25864\n",
       "Lake Shore Dr & Monroe St       20388\n",
       "Millennium Park                 19172\n",
       "Theater on the Lake             14779\n",
       "Michigan Ave & Oak St           13438\n",
       "Indiana Ave & Roosevelt Rd      13410\n",
       "Lake Shore Dr & North Blvd      13136\n",
       "Clark St & Elm St               11769\n",
       "Michigan Ave & Lake St          11533\n",
       "Michigan Ave & Washington St    10527\n",
       "Clark St & Lincoln Ave          10012\n",
       "Buckingham Fountain              9928\n",
       "Wells St & Concord Ln            9851\n",
       "Clark St & Armitage Ave          9689\n",
       "Shedd Aquarium                   9665\n",
       "Name: start_station_name, dtype: int64"
      ]
     },
     "execution_count": 41,
     "metadata": {},
     "output_type": "execute_result"
    }
   ],
   "source": [
    "clean_df[clean_df['member_casual']=='casual']['start_station_name'].value_counts().head(15)"
   ]
  },
  {
   "cell_type": "code",
   "execution_count": 42,
   "id": "869ad958",
   "metadata": {},
   "outputs": [
    {
     "data": {
      "text/plain": [
       "Streeter Dr & Grand Ave         28207\n",
       "Millennium Park                 20028\n",
       "Lake Shore Dr & Monroe St       19942\n",
       "Theater on the Lake             16648\n",
       "Lake Shore Dr & North Blvd      14146\n",
       "Michigan Ave & Oak St           14024\n",
       "Indiana Ave & Roosevelt Rd      13528\n",
       "Clark St & Elm St               11210\n",
       "Michigan Ave & Lake St          11060\n",
       "Michigan Ave & Washington St    10515\n",
       "Clark St & Lincoln Ave          10227\n",
       "Wabash Ave & Grand Ave          10032\n",
       "Wells St & Concord Ln           10007\n",
       "Fairbanks Ct & Grand Ave         9513\n",
       "Clark St & Armitage Ave          9421\n",
       "Name: end_station_name, dtype: int64"
      ]
     },
     "execution_count": 42,
     "metadata": {},
     "output_type": "execute_result"
    }
   ],
   "source": [
    "clean_df[clean_df['member_casual']=='casual']['end_station_name'].value_counts().head(15)"
   ]
  },
  {
   "cell_type": "markdown",
   "id": "7b71e5b0",
   "metadata": {},
   "source": [
    "#### Above we can observe the stations at which highest number of casual member are starting and ending their ride. We might want to pay more attention to those staions"
   ]
  },
  {
   "cell_type": "code",
   "execution_count": 43,
   "id": "f984ae4a",
   "metadata": {},
   "outputs": [
    {
     "data": {
      "text/plain": [
       "Streeter Dr & Grand Ave            6739\n",
       "Lake Shore Dr & Monroe St          6488\n",
       "Millennium Park                    5094\n",
       "Buckingham Fountain                5088\n",
       "Indiana Ave & Roosevelt Rd         4658\n",
       "Michigan Ave & Oak St              3981\n",
       "Theater on the Lake                3647\n",
       "Shore Dr & 55th St                 3593\n",
       "Fort Dearborn Dr & 31st St         3584\n",
       "Michigan Ave & 8th St              3377\n",
       "Lake Shore Dr & North Blvd         3376\n",
       "Lakefront Trail & Bryn Mawr Ave    3014\n",
       "Wabash Ave & 9th St                2852\n",
       "Michigan Ave & Lake St             2841\n",
       "Lake Shore Dr & Belmont Ave        2706\n",
       "Name: start_station_name, dtype: int64"
      ]
     },
     "execution_count": 43,
     "metadata": {},
     "output_type": "execute_result"
    }
   ],
   "source": [
    "clean_df[clean_df['start_station_name'] ==clean_df['end_station_name']]['start_station_name'].value_counts().head(15)\n"
   ]
  },
  {
   "cell_type": "markdown",
   "id": "f443426b",
   "metadata": {},
   "source": [
    "##### Top 15 stations where people started and ended their ride at the same stations"
   ]
  },
  {
   "cell_type": "markdown",
   "id": "9e0036db",
   "metadata": {},
   "source": [
    "### Without outliers"
   ]
  },
  {
   "cell_type": "code",
   "execution_count": 104,
   "id": "9e5298d7",
   "metadata": {},
   "outputs": [],
   "source": [
    "per_list = [0.001, 0.01, 0.011,0.012, 0.013,0.014,0.015,0.025, 0.25, 0.5, 0.75, 0.99, 0.997, 0.998, 0.999, 1.0]\n",
    "without_outliers = membership_type.clip(lower=membership_type.quantile(0.01),upper=membership_type.quantile(1.0),axis=1)\n",
    "quantile = without_outliers.quantile(per_list)"
   ]
  },
  {
   "cell_type": "code",
   "execution_count": 105,
   "id": "f8969221",
   "metadata": {},
   "outputs": [],
   "source": [
    "quantile['count'] = per_list"
   ]
  },
  {
   "cell_type": "code",
   "execution_count": 106,
   "id": "e67273b2",
   "metadata": {},
   "outputs": [],
   "source": [
    "quantile['count'] = np.floor(quantile['count']*len(membership_type))"
   ]
  },
  {
   "cell_type": "code",
   "execution_count": 107,
   "id": "4f3eb27b",
   "metadata": {},
   "outputs": [
    {
     "data": {
      "text/html": [
       "<div>\n",
       "<style scoped>\n",
       "    .dataframe tbody tr th:only-of-type {\n",
       "        vertical-align: middle;\n",
       "    }\n",
       "\n",
       "    .dataframe tbody tr th {\n",
       "        vertical-align: top;\n",
       "    }\n",
       "\n",
       "    .dataframe thead th {\n",
       "        text-align: right;\n",
       "    }\n",
       "</style>\n",
       "<table border=\"1\" class=\"dataframe\">\n",
       "  <thead>\n",
       "    <tr style=\"text-align: right;\">\n",
       "      <th></th>\n",
       "      <th>ride_len</th>\n",
       "      <th>distance_km</th>\n",
       "      <th>count</th>\n",
       "    </tr>\n",
       "  </thead>\n",
       "  <tbody>\n",
       "    <tr>\n",
       "      <th>0.001</th>\n",
       "      <td>1.533333</td>\n",
       "      <td>0.000000</td>\n",
       "      <td>3261.0</td>\n",
       "    </tr>\n",
       "    <tr>\n",
       "      <th>0.010</th>\n",
       "      <td>1.533333</td>\n",
       "      <td>0.000000</td>\n",
       "      <td>32613.0</td>\n",
       "    </tr>\n",
       "    <tr>\n",
       "      <th>0.011</th>\n",
       "      <td>1.866667</td>\n",
       "      <td>0.000000</td>\n",
       "      <td>35874.0</td>\n",
       "    </tr>\n",
       "    <tr>\n",
       "      <th>0.012</th>\n",
       "      <td>2.000000</td>\n",
       "      <td>0.000000</td>\n",
       "      <td>39135.0</td>\n",
       "    </tr>\n",
       "    <tr>\n",
       "      <th>0.013</th>\n",
       "      <td>2.000000</td>\n",
       "      <td>0.000000</td>\n",
       "      <td>42396.0</td>\n",
       "    </tr>\n",
       "    <tr>\n",
       "      <th>0.014</th>\n",
       "      <td>2.000000</td>\n",
       "      <td>0.000000</td>\n",
       "      <td>45658.0</td>\n",
       "    </tr>\n",
       "    <tr>\n",
       "      <th>0.015</th>\n",
       "      <td>2.000000</td>\n",
       "      <td>0.000000</td>\n",
       "      <td>48919.0</td>\n",
       "    </tr>\n",
       "    <tr>\n",
       "      <th>0.025</th>\n",
       "      <td>2.683333</td>\n",
       "      <td>0.000000</td>\n",
       "      <td>81532.0</td>\n",
       "    </tr>\n",
       "    <tr>\n",
       "      <th>0.250</th>\n",
       "      <td>8.000000</td>\n",
       "      <td>0.870737</td>\n",
       "      <td>815326.0</td>\n",
       "    </tr>\n",
       "    <tr>\n",
       "      <th>0.500</th>\n",
       "      <td>15.000000</td>\n",
       "      <td>1.705532</td>\n",
       "      <td>1630652.0</td>\n",
       "    </tr>\n",
       "    <tr>\n",
       "      <th>0.750</th>\n",
       "      <td>27.000000</td>\n",
       "      <td>3.062983</td>\n",
       "      <td>2445978.0</td>\n",
       "    </tr>\n",
       "    <tr>\n",
       "      <th>0.990</th>\n",
       "      <td>160.000000</td>\n",
       "      <td>9.279869</td>\n",
       "      <td>3228691.0</td>\n",
       "    </tr>\n",
       "    <tr>\n",
       "      <th>0.997</th>\n",
       "      <td>300.000000</td>\n",
       "      <td>11.409329</td>\n",
       "      <td>3251521.0</td>\n",
       "    </tr>\n",
       "    <tr>\n",
       "      <th>0.998</th>\n",
       "      <td>521.000000</td>\n",
       "      <td>12.263525</td>\n",
       "      <td>3254782.0</td>\n",
       "    </tr>\n",
       "    <tr>\n",
       "      <th>0.999</th>\n",
       "      <td>1133.000000</td>\n",
       "      <td>14.065513</td>\n",
       "      <td>3258043.0</td>\n",
       "    </tr>\n",
       "    <tr>\n",
       "      <th>1.000</th>\n",
       "      <td>58720.000000</td>\n",
       "      <td>48.331863</td>\n",
       "      <td>3261305.0</td>\n",
       "    </tr>\n",
       "  </tbody>\n",
       "</table>\n",
       "</div>"
      ],
      "text/plain": [
       "           ride_len  distance_km      count\n",
       "0.001      1.533333     0.000000     3261.0\n",
       "0.010      1.533333     0.000000    32613.0\n",
       "0.011      1.866667     0.000000    35874.0\n",
       "0.012      2.000000     0.000000    39135.0\n",
       "0.013      2.000000     0.000000    42396.0\n",
       "0.014      2.000000     0.000000    45658.0\n",
       "0.015      2.000000     0.000000    48919.0\n",
       "0.025      2.683333     0.000000    81532.0\n",
       "0.250      8.000000     0.870737   815326.0\n",
       "0.500     15.000000     1.705532  1630652.0\n",
       "0.750     27.000000     3.062983  2445978.0\n",
       "0.990    160.000000     9.279869  3228691.0\n",
       "0.997    300.000000    11.409329  3251521.0\n",
       "0.998    521.000000    12.263525  3254782.0\n",
       "0.999   1133.000000    14.065513  3258043.0\n",
       "1.000  58720.000000    48.331863  3261305.0"
      ]
     },
     "execution_count": 107,
     "metadata": {},
     "output_type": "execute_result"
    }
   ],
   "source": [
    "quantile"
   ]
  },
  {
   "cell_type": "code",
   "execution_count": 112,
   "id": "252be68c",
   "metadata": {},
   "outputs": [],
   "source": [
    "lower_limit = membership_type['ride_len'].quantile(0.015)"
   ]
  },
  {
   "cell_type": "code",
   "execution_count": 113,
   "id": "26a96aa2",
   "metadata": {},
   "outputs": [],
   "source": [
    "upper_limit = membership_type['ride_len'].quantile(0.999)"
   ]
  },
  {
   "cell_type": "code",
   "execution_count": 115,
   "id": "24f118c7",
   "metadata": {},
   "outputs": [],
   "source": [
    "df1 = membership_type[(membership_type['ride_len']>lower_limit) & (membership_type['ride_len']<upper_limit)]"
   ]
  },
  {
   "cell_type": "code",
   "execution_count": 122,
   "id": "5c381642",
   "metadata": {},
   "outputs": [],
   "source": [
    "member_x = df1.loc[df1['member_casual']=='member','ride_len']\n",
    "member_y = df1.loc[df1['member_casual']=='member','distance_km']\n",
    "casual_x = df1.loc[df1['member_casual']=='casual','ride_len']\n",
    "casual_y = df1.loc[df1['member_casual']=='casual','distance_km']"
   ]
  },
  {
   "cell_type": "code",
   "execution_count": 123,
   "id": "356bcae4",
   "metadata": {},
   "outputs": [
    {
     "data": {
      "text/plain": [
       "<AxesSubplot:title={'center':'casual'}, xlabel='ride len in minutes', ylabel='distance_km'>"
      ]
     },
     "execution_count": 123,
     "metadata": {},
     "output_type": "execute_result"
    },
    {
     "data": {
      "image/png": "[encoded data removed]",
      "text/plain": [
       "<Figure size 1080x504 with 2 Axes>"
      ]
     },
     "metadata": {},
     "output_type": "display_data"
    }
   ],
   "source": [
    "fig,axes = plt.subplots(1,2,figsize=(15,7))\n",
    "axes[0].set_title('member',color='green',size=15)\n",
    "axes[0].set_xlabel('ride length in minutes')\n",
    "sns.scatterplot(x=member_x,y=member_y,ax=axes[0])\n",
    "axes[1].set_title('casual',color='red',size=15)\n",
    "axes[1].set_xlabel('ride len in minutes')\n",
    "sns.scatterplot(x=casual_x,y=casual_y,ax=axes[1])"
   ]
  },
  {
   "cell_type": "markdown",
   "id": "c3cb7d00",
   "metadata": {},
   "source": [
    "#### we can say that majority member ride for less than 400 min which is around 16 hour 40 minute and in case of casual member  that they ride less than around 500-600 min which is approximately 20 hour 50 min and 25 hour respectively. There are also high number of riders who started  and ended at same station hence 0 distance covered (to be exact its 340360 )"
   ]
  },
  {
   "cell_type": "markdown",
   "id": "88658d93",
   "metadata": {},
   "source": [
    "### ** Genreally accepted Seasons cycle in USA **\n",
    "\n",
    "* Winter – December, January and February.\n",
    "* Spring – March,  April and May.\n",
    "* Summer – June, July and August.\n",
    "* Autumn – September, October and November."
   ]
  },
  {
   "cell_type": "code",
   "execution_count": 165,
   "id": "6a12c5f2",
   "metadata": {},
   "outputs": [
    {
     "data": {
      "text/html": [
       "<div>\n",
       "<style scoped>\n",
       "    .dataframe tbody tr th:only-of-type {\n",
       "        vertical-align: middle;\n",
       "    }\n",
       "\n",
       "    .dataframe tbody tr th {\n",
       "        vertical-align: top;\n",
       "    }\n",
       "\n",
       "    .dataframe thead th {\n",
       "        text-align: right;\n",
       "    }\n",
       "</style>\n",
       "<table border=\"1\" class=\"dataframe\">\n",
       "  <thead>\n",
       "    <tr style=\"text-align: right;\">\n",
       "      <th></th>\n",
       "      <th>ride_id</th>\n",
       "      <th>rideable_type</th>\n",
       "      <th>started_at</th>\n",
       "      <th>ended_at</th>\n",
       "      <th>start_station_name</th>\n",
       "      <th>start_station_id</th>\n",
       "      <th>end_station_name</th>\n",
       "      <th>end_station_id</th>\n",
       "      <th>start_lat</th>\n",
       "      <th>start_lng</th>\n",
       "      <th>end_lat</th>\n",
       "      <th>end_lng</th>\n",
       "      <th>member_casual</th>\n",
       "      <th>ride_len</th>\n",
       "      <th>day_of_week</th>\n",
       "      <th>distance_km</th>\n",
       "      <th>months</th>\n",
       "    </tr>\n",
       "  </thead>\n",
       "  <tbody>\n",
       "    <tr>\n",
       "      <th>0</th>\n",
       "      <td>A847FADBBC638E45</td>\n",
       "      <td>docked_bike</td>\n",
       "      <td>2020-04-26 17:45:00</td>\n",
       "      <td>2020-04-26 18:12:00</td>\n",
       "      <td>Eckhart Park</td>\n",
       "      <td>86</td>\n",
       "      <td>Lincoln Ave &amp; Diversey Pkwy</td>\n",
       "      <td>152.0</td>\n",
       "      <td>41.8964</td>\n",
       "      <td>-87.6610</td>\n",
       "      <td>41.9322</td>\n",
       "      <td>-87.6586</td>\n",
       "      <td>member</td>\n",
       "      <td>0 days 00:27:00</td>\n",
       "      <td>Sunday</td>\n",
       "      <td>3.981346</td>\n",
       "      <td>April</td>\n",
       "    </tr>\n",
       "    <tr>\n",
       "      <th>1</th>\n",
       "      <td>5405B80E996FF60D</td>\n",
       "      <td>docked_bike</td>\n",
       "      <td>2020-04-17 17:08:00</td>\n",
       "      <td>2020-04-17 17:17:00</td>\n",
       "      <td>Drake Ave &amp; Fullerton Ave</td>\n",
       "      <td>503</td>\n",
       "      <td>Kosciuszko Park</td>\n",
       "      <td>499.0</td>\n",
       "      <td>41.9244</td>\n",
       "      <td>-87.7154</td>\n",
       "      <td>41.9306</td>\n",
       "      <td>-87.7238</td>\n",
       "      <td>member</td>\n",
       "      <td>0 days 00:09:00</td>\n",
       "      <td>Friday</td>\n",
       "      <td>0.979629</td>\n",
       "      <td>April</td>\n",
       "    </tr>\n",
       "  </tbody>\n",
       "</table>\n",
       "</div>"
      ],
      "text/plain": [
       "            ride_id rideable_type          started_at            ended_at  \\\n",
       "0  A847FADBBC638E45   docked_bike 2020-04-26 17:45:00 2020-04-26 18:12:00   \n",
       "1  5405B80E996FF60D   docked_bike 2020-04-17 17:08:00 2020-04-17 17:17:00   \n",
       "\n",
       "          start_station_name start_station_id             end_station_name  \\\n",
       "0               Eckhart Park               86  Lincoln Ave & Diversey Pkwy   \n",
       "1  Drake Ave & Fullerton Ave              503              Kosciuszko Park   \n",
       "\n",
       "  end_station_id  start_lat  start_lng  end_lat  end_lng member_casual  \\\n",
       "0          152.0    41.8964   -87.6610  41.9322 -87.6586        member   \n",
       "1          499.0    41.9244   -87.7154  41.9306 -87.7238        member   \n",
       "\n",
       "         ride_len day_of_week  distance_km months  \n",
       "0 0 days 00:27:00      Sunday     3.981346  April  \n",
       "1 0 days 00:09:00      Friday     0.979629  April  "
      ]
     },
     "execution_count": 165,
     "metadata": {},
     "output_type": "execute_result"
    }
   ],
   "source": [
    "clean_df.head(2)"
   ]
  },
  {
   "cell_type": "code",
   "execution_count": 164,
   "id": "5627e5b0",
   "metadata": {},
   "outputs": [],
   "source": [
    "clean_df['months'] = clean_df['started_at'].dt.month_name()"
   ]
  },
  {
   "cell_type": "code",
   "execution_count": 170,
   "id": "e7c98cba",
   "metadata": {},
   "outputs": [
    {
     "data": {
      "text/html": [
       "<div>\n",
       "<style scoped>\n",
       "    .dataframe tbody tr th:only-of-type {\n",
       "        vertical-align: middle;\n",
       "    }\n",
       "\n",
       "    .dataframe tbody tr th {\n",
       "        vertical-align: top;\n",
       "    }\n",
       "\n",
       "    .dataframe thead th {\n",
       "        text-align: right;\n",
       "    }\n",
       "</style>\n",
       "<table border=\"1\" class=\"dataframe\">\n",
       "  <thead>\n",
       "    <tr style=\"text-align: right;\">\n",
       "      <th></th>\n",
       "      <th>months</th>\n",
       "      <th>member_casual</th>\n",
       "      <th>total</th>\n",
       "    </tr>\n",
       "  </thead>\n",
       "  <tbody>\n",
       "    <tr>\n",
       "      <th>0</th>\n",
       "      <td>April</td>\n",
       "      <td>casual</td>\n",
       "      <td>23496</td>\n",
       "    </tr>\n",
       "    <tr>\n",
       "      <th>1</th>\n",
       "      <td>April</td>\n",
       "      <td>member</td>\n",
       "      <td>60539</td>\n",
       "    </tr>\n",
       "    <tr>\n",
       "      <th>2</th>\n",
       "      <td>August</td>\n",
       "      <td>casual</td>\n",
       "      <td>279221</td>\n",
       "    </tr>\n",
       "    <tr>\n",
       "      <th>3</th>\n",
       "      <td>August</td>\n",
       "      <td>member</td>\n",
       "      <td>320225</td>\n",
       "    </tr>\n",
       "    <tr>\n",
       "      <th>4</th>\n",
       "      <td>December</td>\n",
       "      <td>casual</td>\n",
       "      <td>24492</td>\n",
       "    </tr>\n",
       "    <tr>\n",
       "      <th>5</th>\n",
       "      <td>December</td>\n",
       "      <td>member</td>\n",
       "      <td>89047</td>\n",
       "    </tr>\n",
       "    <tr>\n",
       "      <th>6</th>\n",
       "      <td>February</td>\n",
       "      <td>casual</td>\n",
       "      <td>8613</td>\n",
       "    </tr>\n",
       "    <tr>\n",
       "      <th>7</th>\n",
       "      <td>February</td>\n",
       "      <td>member</td>\n",
       "      <td>34381</td>\n",
       "    </tr>\n",
       "    <tr>\n",
       "      <th>8</th>\n",
       "      <td>January</td>\n",
       "      <td>casual</td>\n",
       "      <td>14690</td>\n",
       "    </tr>\n",
       "    <tr>\n",
       "      <th>9</th>\n",
       "      <td>January</td>\n",
       "      <td>member</td>\n",
       "      <td>68818</td>\n",
       "    </tr>\n",
       "    <tr>\n",
       "      <th>10</th>\n",
       "      <td>July</td>\n",
       "      <td>casual</td>\n",
       "      <td>266966</td>\n",
       "    </tr>\n",
       "    <tr>\n",
       "      <th>11</th>\n",
       "      <td>July</td>\n",
       "      <td>member</td>\n",
       "      <td>277690</td>\n",
       "    </tr>\n",
       "    <tr>\n",
       "      <th>12</th>\n",
       "      <td>June</td>\n",
       "      <td>casual</td>\n",
       "      <td>153600</td>\n",
       "    </tr>\n",
       "    <tr>\n",
       "      <th>13</th>\n",
       "      <td>June</td>\n",
       "      <td>member</td>\n",
       "      <td>185997</td>\n",
       "    </tr>\n",
       "    <tr>\n",
       "      <th>14</th>\n",
       "      <td>March</td>\n",
       "      <td>casual</td>\n",
       "      <td>75641</td>\n",
       "    </tr>\n",
       "    <tr>\n",
       "      <th>15</th>\n",
       "      <td>March</td>\n",
       "      <td>member</td>\n",
       "      <td>130046</td>\n",
       "    </tr>\n",
       "    <tr>\n",
       "      <th>16</th>\n",
       "      <td>May</td>\n",
       "      <td>casual</td>\n",
       "      <td>86353</td>\n",
       "    </tr>\n",
       "    <tr>\n",
       "      <th>17</th>\n",
       "      <td>May</td>\n",
       "      <td>member</td>\n",
       "      <td>112041</td>\n",
       "    </tr>\n",
       "    <tr>\n",
       "      <th>18</th>\n",
       "      <td>November</td>\n",
       "      <td>casual</td>\n",
       "      <td>72847</td>\n",
       "    </tr>\n",
       "    <tr>\n",
       "      <th>19</th>\n",
       "      <td>November</td>\n",
       "      <td>member</td>\n",
       "      <td>149069</td>\n",
       "    </tr>\n",
       "    <tr>\n",
       "      <th>20</th>\n",
       "      <td>October</td>\n",
       "      <td>casual</td>\n",
       "      <td>121131</td>\n",
       "    </tr>\n",
       "    <tr>\n",
       "      <th>21</th>\n",
       "      <td>October</td>\n",
       "      <td>member</td>\n",
       "      <td>212899</td>\n",
       "    </tr>\n",
       "    <tr>\n",
       "      <th>22</th>\n",
       "      <td>September</td>\n",
       "      <td>casual</td>\n",
       "      <td>212961</td>\n",
       "    </tr>\n",
       "    <tr>\n",
       "      <th>23</th>\n",
       "      <td>September</td>\n",
       "      <td>member</td>\n",
       "      <td>280542</td>\n",
       "    </tr>\n",
       "  </tbody>\n",
       "</table>\n",
       "</div>"
      ],
      "text/plain": [
       "       months member_casual   total\n",
       "0       April        casual   23496\n",
       "1       April        member   60539\n",
       "2      August        casual  279221\n",
       "3      August        member  320225\n",
       "4    December        casual   24492\n",
       "5    December        member   89047\n",
       "6    February        casual    8613\n",
       "7    February        member   34381\n",
       "8     January        casual   14690\n",
       "9     January        member   68818\n",
       "10       July        casual  266966\n",
       "11       July        member  277690\n",
       "12       June        casual  153600\n",
       "13       June        member  185997\n",
       "14      March        casual   75641\n",
       "15      March        member  130046\n",
       "16        May        casual   86353\n",
       "17        May        member  112041\n",
       "18   November        casual   72847\n",
       "19   November        member  149069\n",
       "20    October        casual  121131\n",
       "21    October        member  212899\n",
       "22  September        casual  212961\n",
       "23  September        member  280542"
      ]
     },
     "execution_count": 170,
     "metadata": {},
     "output_type": "execute_result"
    }
   ],
   "source": [
    "grouped_df = clean_df.groupby(['months','member_casual'],as_index=False)['ride_id'].agg({'total':'count'})\n",
    "grouped_df"
   ]
  },
  {
   "cell_type": "code",
   "execution_count": 181,
   "id": "7fd3374a",
   "metadata": {},
   "outputs": [],
   "source": [
    "X = grouped_df['months']\n",
    "y = grouped_df['total']"
   ]
  },
  {
   "cell_type": "code",
   "execution_count": 210,
   "id": "d900456f",
   "metadata": {},
   "outputs": [
    {
     "data": {
      "text/plain": [
       "<AxesSubplot:xlabel='months', ylabel='total'>"
      ]
     },
     "execution_count": 210,
     "metadata": {},
     "output_type": "execute_result"
    },
    {
     "data": {
      "image/png": "[encoded data removed]",
      "text/plain": [
       "<Figure size 1008x576 with 1 Axes>"
      ]
     },
     "metadata": {},
     "output_type": "display_data"
    }
   ],
   "source": [
    "order = ['December', 'January', 'February', 'March', 'April', 'May', 'June', 'July', 'August', 'September', 'October', 'November']\n",
    "plt.figure(figsize=(14,8))\n",
    "sns.barplot(x=X,y=y,hue='member_casual',data =grouped_df,order=order,palette='Blues_d')"
   ]
  },
  {
   "cell_type": "markdown",
   "id": "41b1771c",
   "metadata": {},
   "source": [
    "### From above we can conclude that in\n",
    " * Winter – December, January and February.      (lowest number of riders) \n",
    " * Spring – March, April and May.      (low number of riders\n",
    " * Summer – June, July and August.       (higest number of riders)\n",
    " * Autumn – September, October and November.    (high number of riders)\n",
    " \n",
    " ##### As season starts to approach summer, number of riders start increasing reaching peak in August and september and it gradually start to decrease as season again start  approching winter"
   ]
  },
  {
   "cell_type": "markdown",
   "id": "3c407334",
   "metadata": {},
   "source": [
    "# CONCLUSION "
   ]
  },
  {
   "cell_type": "markdown",
   "id": "6ac42770",
   "metadata": {},
   "source": [
    "From above analysis we cant exactly conclude how members use bicycle different than casual riders. But it look like casual riders tends to ride bicycle more during weekends as footfall of casual riders is more during weekends. Also it looks casual riders ride bike for longer duration compared to members.\n",
    "\n",
    "We can't exactly conclude why would casual rider would buy membership as data provided to us is limited. For example our data doesnt contain the feedback of members like why they changed from casual to member or what's the thought of casual rider on membership.\n",
    "\n",
    "Also there is no clear indication of how cyclist can influe casual riders to buy membership due to limitation of our data.\n",
    "To overcome this problem maybe questionner/data collector can ask some open-end questions, discriptive questions or maybe leading questions with why attached to it.\n",
    "\n",
    "Although data is limited which resulted in limitiation in our analysis. However avertising departments can advertise about membership in top 10 to 15 bike stations where footfall of casual rider is maximum. For best response they should advertise it during the end of spring season. Also as we can observe that footfall of casual riders in maximum during weekends so maybe company can charge fare more during the weekends for casual riders which may motivate them to take membership.\n",
    "\n",
    "\n"
   ]
  },
  {
   "cell_type": "markdown",
   "id": "2ce8955e",
   "metadata": {},
   "source": [
    "# NEXT STEPS\n",
    "* Advertising departments should advertise about membership in top 10-15 stations where footfall of casual riders is maximum to reach out to maximum number of casual riders\n",
    "* For high response they should advertise it during the end of spring season\n",
    "* Maybe company can provide some incentives like offers and discounts in membership \n",
    "* Company also can offers discounts or free membership for months based on number of referrals \n",
    "* Company should charge higher during the weekends as casual riders prefers to ride more during friday and weekends \n",
    "* Data collector/questionners should include or collect survey/opinion/thoughts of both casual and member riders for more deep analysis\n"
   ]
  },
  {
   "cell_type": "code",
   "execution_count": null,
   "id": "70dc623b",
   "metadata": {},
   "outputs": [],
   "source": []
  }
 ],
 "metadata": {
  "kernelspec": {
   "display_name": "Python 3",
   "language": "python",
   "name": "python3"
  },
  "language_info": {
   "codemirror_mode": {
    "name": "ipython",
    "version": 3
   },
   "file_extension": ".py",
   "mimetype": "text/x-python",
   "name": "python",
   "nbconvert_exporter": "python",
   "pygments_lexer": "ipython3",
   "version": "3.8.6"
  }
 },
 "nbformat": 4,
 "nbformat_minor": 5
}
